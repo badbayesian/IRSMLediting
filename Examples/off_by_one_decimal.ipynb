{
 "cells": [
  {
   "cell_type": "markdown",
   "metadata": {},
   "source": [
    "# Off-by-one error"
   ]
  },
  {
   "cell_type": "markdown",
   "metadata": {
    "ExecuteTime": {
     "end_time": "2018-09-06T22:01:10.480879Z",
     "start_time": "2018-09-06T22:01:10.473849Z"
    }
   },
   "source": [
    "This notebook is a quick analysis of deep learnings ability to find off-by-one decimal errors in an income distribution. The income distribution will be simulated with a log-normal distribution."
   ]
  },
  {
   "cell_type": "markdown",
   "metadata": {},
   "source": [
    "## Libraries"
   ]
  },
  {
   "cell_type": "code",
   "execution_count": 1,
   "metadata": {
    "ExecuteTime": {
     "end_time": "2018-09-25T20:19:10.178682Z",
     "start_time": "2018-09-25T20:19:06.922104Z"
    },
    "scrolled": true
   },
   "outputs": [],
   "source": [
    "import tensorflow as tf\n",
    "import tensorflow.contrib.eager as tfe\n",
    "import tensorflow_probability as tfp\n",
    "from tensorflow import keras"
   ]
  },
  {
   "cell_type": "code",
   "execution_count": 2,
   "metadata": {
    "ExecuteTime": {
     "end_time": "2018-09-25T20:19:10.972778Z",
     "start_time": "2018-09-25T20:19:10.180934Z"
    }
   },
   "outputs": [],
   "source": [
    "import warnings\n",
    "warnings.filterwarnings('ignore')\n",
    "import os\n",
    "import numpy as np\n",
    "import matplotlib.pyplot as plt\n",
    "import seaborn as sns\n",
    "import pandas as pd\n",
    "import pystan\n",
    "from sklearn.ensemble import RandomForestClassifier as RFC\n",
    "from sklearn.ensemble import GradientBoostingClassifier as GBC\n",
    "from sklearn.metrics import accuracy_score\n",
    "from sklearn.model_selection import train_test_split"
   ]
  },
  {
   "cell_type": "markdown",
   "metadata": {},
   "source": [
    "The following command checks which devices TensorFlow has access to. It's a great way to check if TensorFlow is reading a GPU correctly."
   ]
  },
  {
   "cell_type": "code",
   "execution_count": 3,
   "metadata": {
    "ExecuteTime": {
     "end_time": "2018-09-25T20:19:11.383628Z",
     "start_time": "2018-09-25T20:19:10.974436Z"
    }
   },
   "outputs": [
    {
     "name": "stdout",
     "output_type": "stream",
     "text": [
      "[name: \"/device:CPU:0\"\n",
      "device_type: \"CPU\"\n",
      "memory_limit: 268435456\n",
      "locality {\n",
      "}\n",
      "incarnation: 11084783413010809993\n",
      ", name: \"/device:GPU:0\"\n",
      "device_type: \"GPU\"\n",
      "memory_limit: 5190320128\n",
      "locality {\n",
      "  bus_id: 1\n",
      "  links {\n",
      "  }\n",
      "}\n",
      "incarnation: 10033567365510194153\n",
      "physical_device_desc: \"device: 0, name: GeForce GTX 1060 with Max-Q Design, pci bus id: 0000:01:00.0, compute capability: 6.1\"\n",
      "]\n"
     ]
    }
   ],
   "source": [
    "from tensorflow.python.client import device_lib\n",
    "print(device_lib.list_local_devices())"
   ]
  },
  {
   "cell_type": "markdown",
   "metadata": {
    "ExecuteTime": {
     "end_time": "2018-09-06T22:07:25.040838Z",
     "start_time": "2018-09-06T22:07:25.037726Z"
    }
   },
   "source": [
    "## Boilerplate (Fake Data Creation)"
   ]
  },
  {
   "cell_type": "markdown",
   "metadata": {},
   "source": [
    "TODO move to separate file"
   ]
  },
  {
   "cell_type": "code",
   "execution_count": 4,
   "metadata": {
    "ExecuteTime": {
     "end_time": "2018-09-25T20:19:11.390862Z",
     "start_time": "2018-09-25T20:19:11.385270Z"
    }
   },
   "outputs": [],
   "source": [
    "def off_by_one(mu=np.log(25), sigma=np.log(10)/3, n=int(1e5), error_rate=0.1, data=None, ordinal_error=True):\n",
    "    \"\"\"Create log-normal data set with off-by-one decimal error.\"\"\"\n",
    "\n",
    "    if data is None:\n",
    "        true_value = np.random.lognormal(mu, sigma, n)\n",
    "    else:\n",
    "        true_value = data\n",
    "        n = len(true_value)\n",
    "    true_value = [round(i, 5) for i in true_value]\n",
    "    if ordinal_error:\n",
    "        error_types = [1,2,3] #-1 for left error, 1 for right error, 0 for no error.\n",
    "        # tensorflow is doing a one-hot encoding, although on future iterations we would like to keep the\n",
    "        # ordinal (not cardinal) nature of the error.\n",
    "        error = np.random.choice(error_types, n, p=[error_rate/2, error_rate/2, 1-error_rate])\n",
    "    else:\n",
    "        error = np.random.binomial(1, error_rate, n)\n",
    "    \n",
    "    observed = np.zeros(n)\n",
    "    for i in range(n):\n",
    "        if error[i] == 1:\n",
    "            observed[i] = true_value[i]/10\n",
    "        elif error[i] == 2:\n",
    "            observed[i] = true_value[i]*10\n",
    "        else:\n",
    "            observed[i] = true_value[i]\n",
    "    data = {\"error\" : error, \"observed\" : observed, \"true_value\" : true_value}\n",
    "    return pd.DataFrame(data=data)"
   ]
  },
  {
   "cell_type": "code",
   "execution_count": 5,
   "metadata": {
    "ExecuteTime": {
     "end_time": "2018-09-25T20:19:11.405292Z",
     "start_time": "2018-09-25T20:19:11.394418Z"
    }
   },
   "outputs": [],
   "source": [
    "def plot_history(history):\n",
    "    loss_list = [s for s in history.history.keys() if 'loss' in s and 'val' not in s]\n",
    "    val_loss_list = [s for s in history.history.keys() if 'loss' in s and 'val' in s]\n",
    "    acc_list = [s for s in history.history.keys() if 'acc' in s and 'val' not in s]\n",
    "    val_acc_list = [s for s in history.history.keys() if 'acc' in s and 'val' in s]\n",
    "    \n",
    "    if len(loss_list) == 0:\n",
    "        print('Loss is missing in history')\n",
    "        return \n",
    "    \n",
    "    epochs = range(1,len(history.history[loss_list[0]]) + 1)\n",
    "    \n",
    "    ## Loss\n",
    "    plt.figure(1)\n",
    "    for l in loss_list:\n",
    "        plt.plot(epochs, history.history[l], 'b',\n",
    "                 label='Training loss (' + str(str(format(history.history[l][-1],'.5f'))+')'))\n",
    "    for l in val_loss_list:\n",
    "        plt.plot(epochs, history.history[l], 'g',\n",
    "                 label='Validation loss (' + str(str(format(history.history[l][-1],'.5f'))+')'))\n",
    "    \n",
    "    plt.title('Loss')\n",
    "    plt.xlabel('Epochs')\n",
    "    plt.ylabel('Loss')\n",
    "    plt.legend()\n",
    "    \n",
    "    ## Accuracy\n",
    "    plt.figure(2)\n",
    "    for l in acc_list:\n",
    "        plt.plot(epochs, history.history[l], 'b',\n",
    "                 label='Training accuracy (' + str(format(history.history[l][-1],'.5f'))+')')\n",
    "    for l in val_acc_list:    \n",
    "        plt.plot(epochs, history.history[l], 'g',\n",
    "                 label='Validation accuracy (' + str(format(history.history[l][-1],'.5f'))+')')\n",
    "\n",
    "    plt.title('Accuracy')\n",
    "    plt.xlabel('Epochs')\n",
    "    plt.ylabel('Accuracy')\n",
    "    plt.legend()\n",
    "    plt.show()"
   ]
  },
  {
   "cell_type": "markdown",
   "metadata": {},
   "source": [
    "## Introduction"
   ]
  },
  {
   "cell_type": "markdown",
   "metadata": {},
   "source": [
    "As the amount of error increases, the observed and true value distributions become more separable. Note that with this log-normal distribution, the observed distribution becomes bimodal. However, we would expect "
   ]
  },
  {
   "cell_type": "code",
   "execution_count": 6,
   "metadata": {
    "ExecuteTime": {
     "end_time": "2018-09-25T20:19:16.814022Z",
     "start_time": "2018-09-25T20:19:11.407191Z"
    }
   },
   "outputs": [
    {
     "data": {
      "image/png": "[encoded data removed]",
      "text/plain": [
       "<Figure size 1440x576 with 6 Axes>"
      ]
     },
     "metadata": {},
     "output_type": "display_data"
    }
   ],
   "source": [
    "df = [off_by_one(mu=np.log(25), sigma=np.log(10)/3, n=int(1e5), error_rate=i) for i in np.arange(0, .6, 0.1)]\n",
    "\n",
    "fig, axs = plt.subplots(2,3, figsize=(20,8), facecolor='w', edgecolor='k')\n",
    "\n",
    "for ax, i in zip(axs.ravel(), range(0,6)):\n",
    "        ax.hist(df[i][\"true_value\"], bins=100, alpha=0.25, range=[0,200], density=True)\n",
    "        ax.hist(df[i][\"observed\"], bins=100, alpha=0.25, range=[0,200], density=True)\n",
    "        ax.legend()\n",
    "        ax.set_title(\"Error Rate: \" + str(round(i*0.1, 2)))\n",
    "plt.show()"
   ]
  },
  {
   "cell_type": "markdown",
   "metadata": {},
   "source": [
    "## Modeling"
   ]
  },
  {
   "cell_type": "markdown",
   "metadata": {},
   "source": [
    "The standard pipeline for ML is to first do an initial train/test split. This test set is also known as the holdout set as we will also split the training data set again for Cross Validation when tuning the neural net. "
   ]
  },
  {
   "cell_type": "code",
   "execution_count": 7,
   "metadata": {
    "ExecuteTime": {
     "end_time": "2018-09-25T20:19:16.826986Z",
     "start_time": "2018-09-25T20:19:16.816037Z"
    }
   },
   "outputs": [],
   "source": [
    "train, test = train_test_split(df[3], test_size=0.25)\n",
    "test_len = len(test)\n",
    "X_train = np.array(train[\"observed\"]).reshape(-1, 1)\n",
    "y_train = np.array(train[\"error\"])\n",
    "X_test = np.array(test[\"observed\"]).reshape(-1, 1)\n",
    "y_test = np.array(test[\"error\"])"
   ]
  },
  {
   "cell_type": "markdown",
   "metadata": {},
   "source": [
    "### Deep Learning (Neural net)"
   ]
  },
  {
   "cell_type": "markdown",
   "metadata": {},
   "source": [
    "Building neural nets in Tensorflow is straightforward esp. using the Keras API. The Keras API has three parts to it: building the underlying model, compiling the model, and fitting the model. In the first step, one defines the  structure of the neural net. 'model.compile' defines the optimizer to solve the neural net, loss function (or objective function), and metrics. Lastly, 'model.fit' runs the process to fit the neural net and returns the previous metrics defined in the process. Currently, neural nets have a difficult time fitting this data. I need to research more on this topic."
   ]
  },
  {
   "cell_type": "code",
   "execution_count": 22,
   "metadata": {
    "ExecuteTime": {
     "end_time": "2018-09-25T20:33:14.752657Z",
     "start_time": "2018-09-25T20:33:14.657469Z"
    }
   },
   "outputs": [],
   "source": [
    "def build_model():\n",
    "    model = keras.Sequential([\n",
    "    keras.layers.Dense(10, activation=tf.nn.relu, input_shape=(X_train.shape[1],)),\n",
    "    keras.layers.Dense(10, activation=tf.nn.relu),\n",
    "    keras.layers.Dense(10, activation=tf.nn.relu),\n",
    "    keras.layers.Dense(1, activation=tf.nn.softmax)\n",
    "  ])\n",
    "    model.compile(optimizer=tf.train.AdamOptimizer(),\n",
    "                  loss=tf.keras.losses.categorical_hinge,\n",
    "                  metrics=['accuracy'])\n",
    "    return model\n",
    "\n",
    "model = build_model()"
   ]
  },
  {
   "cell_type": "code",
   "execution_count": 23,
   "metadata": {
    "ExecuteTime": {
     "end_time": "2018-09-25T20:40:09.733053Z",
     "start_time": "2018-09-25T20:33:15.218420Z"
    }
   },
   "outputs": [
    {
     "name": "stdout",
     "output_type": "stream",
     "text": [
      "\n",
      "..........\n",
      "..........\n",
      "..........\n",
      "..........\n",
      "..........\n",
      "..........\n",
      "..........\n",
      "..........\n",
      "..........\n",
      ".........."
     ]
    }
   ],
   "source": [
    "# Print evidence of each epoch ending in readable format\n",
    "class PrintDot(keras.callbacks.Callback):\n",
    "    def on_epoch_end(self, epoch, logs):\n",
    "        if epoch % 10 == 0: print('')\n",
    "        print('.', end='')\n",
    "\n",
    "history = model.fit(X_train, y_train, epochs=100,\n",
    "                    validation_split=0.25, verbose=0,\n",
    "                    validation_data=(X_test, y_test),\n",
    "                    callbacks=[PrintDot()])"
   ]
  },
  {
   "cell_type": "code",
   "execution_count": 24,
   "metadata": {
    "ExecuteTime": {
     "end_time": "2018-09-25T20:40:10.039472Z",
     "start_time": "2018-09-25T20:40:09.738234Z"
    }
   },
   "outputs": [
    {
     "data": {
      "image/png": "[encoded data removed]",
      "text/plain": [
       "<Figure size 432x288 with 1 Axes>"
      ]
     },
     "metadata": {
      "needs_background": "light"
     },
     "output_type": "display_data"
    },
    {
     "data": {
      "image/png": "[encoded data removed]",
      "text/plain": [
       "<Figure size 432x288 with 1 Axes>"
      ]
     },
     "metadata": {
      "needs_background": "light"
     },
     "output_type": "display_data"
    }
   ],
   "source": [
    "plot_historyory(history)"
   ]
  },
  {
   "cell_type": "markdown",
   "metadata": {},
   "source": [
    "### Random Forest"
   ]
  },
  {
   "cell_type": "markdown",
   "metadata": {},
   "source": [
    "sklearn framework is based on a single objection (the estimator) and two commands (fit and predict). This convention is followed in all sklearn methods whether it is a linear regression or a random forest."
   ]
  },
  {
   "cell_type": "code",
   "execution_count": 11,
   "metadata": {
    "ExecuteTime": {
     "end_time": "2018-09-25T20:13:44.682488Z",
     "start_time": "2018-09-25T20:13:43.394809Z"
    },
    "scrolled": true
   },
   "outputs": [],
   "source": [
    "rfc = RFC()\n",
    "rfc.fit(X_train, y_train)\n",
    "y_test_hat = rfc.predict(X_test)"
   ]
  },
  {
   "cell_type": "code",
   "execution_count": 12,
   "metadata": {
    "ExecuteTime": {
     "end_time": "2018-09-25T20:13:44.691142Z",
     "start_time": "2018-09-25T20:13:44.684476Z"
    }
   },
   "outputs": [
    {
     "data": {
      "text/plain": [
       "0.88484"
      ]
     },
     "execution_count": 12,
     "metadata": {},
     "output_type": "execute_result"
    }
   ],
   "source": [
    "accuracy_score(y_test_hat, y_test)"
   ]
  },
  {
   "cell_type": "markdown",
   "metadata": {},
   "source": [
    "### Gradient Boosting"
   ]
  },
  {
   "cell_type": "code",
   "execution_count": 13,
   "metadata": {
    "ExecuteTime": {
     "end_time": "2018-09-25T20:13:53.095160Z",
     "start_time": "2018-09-25T20:13:44.693065Z"
    }
   },
   "outputs": [],
   "source": [
    "gbc = GBC()\n",
    "gbc.fit(X_train, y_train)\n",
    "y_test_hat = gbc.predict(X_test)"
   ]
  },
  {
   "cell_type": "code",
   "execution_count": 14,
   "metadata": {
    "ExecuteTime": {
     "end_time": "2018-09-25T20:13:53.101516Z",
     "start_time": "2018-09-25T20:13:53.096901Z"
    }
   },
   "outputs": [
    {
     "data": {
      "text/plain": [
       "0.92036"
      ]
     },
     "execution_count": 14,
     "metadata": {},
     "output_type": "execute_result"
    }
   ],
   "source": [
    "accuracy_score(y_test_hat, y_test)"
   ]
  },
  {
   "cell_type": "markdown",
   "metadata": {},
   "source": [
    "### Bayesian Hierarchical modeling (TODO)"
   ]
  },
  {
   "cell_type": "markdown",
   "metadata": {},
   "source": [
    "pyStan "
   ]
  },
  {
   "cell_type": "code",
   "execution_count": 15,
   "metadata": {
    "ExecuteTime": {
     "end_time": "2018-09-25T20:13:53.184446Z",
     "start_time": "2018-09-25T20:13:53.103036Z"
    }
   },
   "outputs": [
    {
     "ename": "ValueError",
     "evalue": "Failed to parse Stan model 'anon_model_10e3bdcfd77244e44ecd083edad01dc7'. Error message:\nPARSER EXPECTED: whitespace to end of file.\nFOUND AT line 6: \nparameter {\n    real<lower=0> mu;\n    real<lower=0> sigma;\n    real<lower=0, upper=0> error_rate;\n}\ntransformed parameters {\n    real observed[N];\n    for (n in 1:N){\n      observed[N] = true_value*error_rate\n    }\n}\nmodel {\n    error ~ bernoulli(error_rate)\n}\n\n\n\n\n",
     "output_type": "error",
     "traceback": [
      "\u001b[0;31m---------------------------------------------------------------------------\u001b[0m",
      "\u001b[0;31mValueError\u001b[0m                                Traceback (most recent call last)",
      "\u001b[0;32m<ipython-input-15-490543895839>\u001b[0m in \u001b[0;36m<module>\u001b[0;34m()\u001b[0m\n\u001b[1;32m     23\u001b[0m         'x': X_train.reshape(np.shape(X_train)[0])}\n\u001b[1;32m     24\u001b[0m \u001b[0;34m\u001b[0m\u001b[0m\n\u001b[0;32m---> 25\u001b[0;31m \u001b[0msm\u001b[0m \u001b[0;34m=\u001b[0m \u001b[0mpystan\u001b[0m\u001b[0;34m.\u001b[0m\u001b[0mStanModel\u001b[0m\u001b[0;34m(\u001b[0m\u001b[0mmodel_code\u001b[0m\u001b[0;34m=\u001b[0m\u001b[0mmodel\u001b[0m\u001b[0;34m)\u001b[0m\u001b[0;34m\u001b[0m\u001b[0m\n\u001b[0m\u001b[1;32m     26\u001b[0m \u001b[0mfit\u001b[0m \u001b[0;34m=\u001b[0m \u001b[0msm\u001b[0m\u001b[0;34m.\u001b[0m\u001b[0msampling\u001b[0m\u001b[0;34m(\u001b[0m\u001b[0mdata\u001b[0m\u001b[0;34m=\u001b[0m\u001b[0mdata\u001b[0m\u001b[0;34m,\u001b[0m \u001b[0miter\u001b[0m\u001b[0;34m=\u001b[0m\u001b[0;36m1000\u001b[0m\u001b[0;34m,\u001b[0m \u001b[0mchains\u001b[0m\u001b[0;34m=\u001b[0m\u001b[0;36m4\u001b[0m\u001b[0;34m)\u001b[0m\u001b[0;34m\u001b[0m\u001b[0m\n",
      "\u001b[0;32m~/IRS/lib/python3.5/site-packages/pystan/model.py\u001b[0m in \u001b[0;36m__init__\u001b[0;34m(self, file, charset, model_name, model_code, stanc_ret, include_paths, boost_lib, eigen_lib, verbose, obfuscate_model_name, extra_compile_args)\u001b[0m\n\u001b[1;32m    222\u001b[0m                                          \u001b[0mverbose\u001b[0m\u001b[0;34m=\u001b[0m\u001b[0mverbose\u001b[0m\u001b[0;34m,\u001b[0m\u001b[0;34m\u001b[0m\u001b[0m\n\u001b[1;32m    223\u001b[0m                                          \u001b[0minclude_paths\u001b[0m\u001b[0;34m=\u001b[0m\u001b[0minclude_paths\u001b[0m\u001b[0;34m,\u001b[0m\u001b[0;34m\u001b[0m\u001b[0m\n\u001b[0;32m--> 224\u001b[0;31m                                          obfuscate_model_name=obfuscate_model_name)\n\u001b[0m\u001b[1;32m    225\u001b[0m \u001b[0;34m\u001b[0m\u001b[0m\n\u001b[1;32m    226\u001b[0m         \u001b[0;32mif\u001b[0m \u001b[0;32mnot\u001b[0m \u001b[0misinstance\u001b[0m\u001b[0;34m(\u001b[0m\u001b[0mstanc_ret\u001b[0m\u001b[0;34m,\u001b[0m \u001b[0mdict\u001b[0m\u001b[0;34m)\u001b[0m\u001b[0;34m:\u001b[0m\u001b[0;34m\u001b[0m\u001b[0m\n",
      "\u001b[0;32m~/IRS/lib/python3.5/site-packages/pystan/api.py\u001b[0m in \u001b[0;36mstanc\u001b[0;34m(file, charset, model_code, model_name, include_paths, verbose, obfuscate_model_name)\u001b[0m\n\u001b[1;32m    166\u001b[0m             \u001b[0mmsg\u001b[0m \u001b[0;34m=\u001b[0m \u001b[0mmsg\u001b[0m\u001b[0;34m.\u001b[0m\u001b[0mencode\u001b[0m\u001b[0;34m(\u001b[0m\u001b[0;34m'ascii'\u001b[0m\u001b[0;34m,\u001b[0m \u001b[0;34m'replace'\u001b[0m\u001b[0;34m)\u001b[0m\u001b[0;34m\u001b[0m\u001b[0m\n\u001b[1;32m    167\u001b[0m         \u001b[0merror_msg\u001b[0m \u001b[0;34m=\u001b[0m \u001b[0;34m\"Failed to parse Stan model '{}'. Error message:\\n{}\"\u001b[0m\u001b[0;34m.\u001b[0m\u001b[0mformat\u001b[0m\u001b[0;34m(\u001b[0m\u001b[0mmodel_name\u001b[0m\u001b[0;34m,\u001b[0m \u001b[0mmsg\u001b[0m\u001b[0;34m)\u001b[0m\u001b[0;34m\u001b[0m\u001b[0m\n\u001b[0;32m--> 168\u001b[0;31m         \u001b[0;32mraise\u001b[0m \u001b[0mValueError\u001b[0m\u001b[0;34m(\u001b[0m\u001b[0merror_msg\u001b[0m\u001b[0;34m)\u001b[0m\u001b[0;34m\u001b[0m\u001b[0m\n\u001b[0m\u001b[1;32m    169\u001b[0m     \u001b[0;32melif\u001b[0m \u001b[0mresult\u001b[0m\u001b[0;34m[\u001b[0m\u001b[0;34m'status'\u001b[0m\u001b[0;34m]\u001b[0m \u001b[0;34m==\u001b[0m \u001b[0;36m0\u001b[0m\u001b[0;34m:\u001b[0m  \u001b[0;31m# SUCCESS_RC is 0\u001b[0m\u001b[0;34m\u001b[0m\u001b[0m\n\u001b[1;32m    170\u001b[0m         \u001b[0mlogger\u001b[0m\u001b[0;34m.\u001b[0m\u001b[0mdebug\u001b[0m\u001b[0;34m(\u001b[0m\u001b[0;34m\"Successfully parsed Stan model '{}'.\"\u001b[0m\u001b[0;34m.\u001b[0m\u001b[0mformat\u001b[0m\u001b[0;34m(\u001b[0m\u001b[0mmodel_name\u001b[0m\u001b[0;34m)\u001b[0m\u001b[0;34m)\u001b[0m\u001b[0;34m\u001b[0m\u001b[0m\n",
      "\u001b[0;31mValueError\u001b[0m: Failed to parse Stan model 'anon_model_10e3bdcfd77244e44ecd083edad01dc7'. Error message:\nPARSER EXPECTED: whitespace to end of file.\nFOUND AT line 6: \nparameter {\n    real<lower=0> mu;\n    real<lower=0> sigma;\n    real<lower=0, upper=0> error_rate;\n}\ntransformed parameters {\n    real observed[N];\n    for (n in 1:N){\n      observed[N] = true_value*error_rate\n    }\n}\nmodel {\n    error ~ bernoulli(error_rate)\n}\n\n\n\n\n"
     ]
    }
   ],
   "source": [
    "model = \"\"\"\n",
    "data {\n",
    "    int<lower=0> N;\n",
    "    vector[N] x;\n",
    "}\n",
    "parameter {\n",
    "    real<lower=0> mu;\n",
    "    real<lower=0> sigma;\n",
    "    real<lower=0, upper=0> error_rate;\n",
    "}\n",
    "transformed parameters {\n",
    "    real observed[N];\n",
    "    for (n in 1:N){\n",
    "      observed[N] = true_value*error_rate\n",
    "    }\n",
    "}\n",
    "model {\n",
    "    error ~ bernoulli(error_rate)\n",
    "}\n",
    "\"\"\"\n",
    "\n",
    "data = {'n': np.shape(X_train)[0],\n",
    "        'x': X_train.reshape(np.shape(X_train)[0])}\n",
    "\n",
    "sm = pystan.StanModel(model_code=model)\n",
    "fit = sm.sampling(data=data, iter=1000, chains=4)"
   ]
  },
  {
   "cell_type": "code",
   "execution_count": null,
   "metadata": {},
   "outputs": [],
   "source": []
  }
 ],
 "metadata": {
  "kernelspec": {
   "display_name": "Python 3",
   "language": "python",
   "name": "python3"
  },
  "language_info": {
   "codemirror_mode": {
    "name": "ipython",
    "version": 3
   },
   "file_extension": ".py",
   "mimetype": "text/x-python",
   "name": "python",
   "nbconvert_exporter": "python",
   "pygments_lexer": "ipython3",
   "version": "3.5.2"
  },
  "toc": {
   "base_numbering": 1,
   "nav_menu": {},
   "number_sections": true,
   "sideBar": true,
   "skip_h1_title": true,
   "title_cell": "Table of Contents",
   "title_sidebar": "Contents",
   "toc_cell": false,
   "toc_position": {
    "height": "calc(100% - 180px)",
    "left": "10px",
    "top": "150px",
    "width": "371px"
   },
   "toc_section_display": true,
   "toc_window_display": true
  }
 },
 "nbformat": 4,
 "nbformat_minor": 2
}
